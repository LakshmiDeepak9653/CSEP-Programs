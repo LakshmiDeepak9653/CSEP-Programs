{
 "cells": [
  {
   "cell_type": "code",
   "execution_count": 21,
   "id": "ae57f470",
   "metadata": {},
   "outputs": [
    {
     "name": "stdout",
     "output_type": "stream",
     "text": [
      "THe list is  [1, 2, 3, 56, 78, 81, 90]\n",
      "Enter search element56\n",
      "Element found in index 3\n"
     ]
    }
   ],
   "source": [
    "#Binary Search in recursive\n",
    "def binsearch(lst,l,h,key):\n",
    "    if h>=l:\n",
    "        mid=(h+l)//2\n",
    "        if(lst[mid]==key):\n",
    "            return mid\n",
    "        elif(lst[mid]>key):\n",
    "            return binsearch(lst,l,mid -1,key)\n",
    "        else:\n",
    "            return binsearch(lst,mid +1,h,key)\n",
    "    else:\n",
    "        return 0\n",
    "    \n",
    "    \n",
    "    \n",
    "    \n",
    "    \n",
    "    \n",
    "lst=[1,2,3,56,78,81,90]\n",
    "print(\"THe list is \",lst)\n",
    "key=int(input(\"Enter search element\"))\n",
    "\n",
    "output=binsearch(lst,0,len(lst)-1,key)\n",
    "\n",
    "if output !=0:\n",
    "    print(\"Element found in index\",output)\n",
    "else:\n",
    "    print(\"Element not found\")\n",
    "\n",
    "    "
   ]
  },
  {
   "cell_type": "code",
   "execution_count": 3,
   "id": "893af575",
   "metadata": {},
   "outputs": [
    {
     "name": "stdout",
     "output_type": "stream",
     "text": [
      "Enter the number5\n",
      "factorial of  5 is 120\n"
     ]
    }
   ],
   "source": [
    "#Factorial using Recursion\n",
    "\n",
    "def fac(n):\n",
    "    if(n==1 or n==0):\n",
    "        return 1\n",
    "    else:\n",
    "        x=n*fac(n-1)\n",
    "        return x\n",
    "key=int(input(\"Enter the number\"))\n",
    "print(\"factorial of \",key,\"is\",fac(key))"
   ]
  },
  {
   "cell_type": "code",
   "execution_count": 19,
   "id": "45a995e6",
   "metadata": {},
   "outputs": [
    {
     "name": "stdout",
     "output_type": "stream",
     "text": [
      "Enter the principle10000\n",
      "Enter the rate of interest2\n",
      "Enter the time3\n",
      "Enter the compound interset interval3\n",
      "compound interest is 1950.9256862231105\n"
     ]
    },
    {
     "data": {
      "image/png": "[encoded data removed]",
      "text/plain": [
       "<Figure size 432x288 with 1 Axes>"
      ]
     },
     "metadata": {
      "needs_background": "light"
     },
     "output_type": "display_data"
    }
   ],
   "source": [
    "#compound Interest\n",
    "from matplotlib import pyplot as pt\n",
    "def compoundint(p,r,t):\n",
    "    lst=[]\n",
    "    x=[]\n",
    "    for i in range(1,n+1):\n",
    "        x.append(i)\n",
    "        a=p*(1+(r/100))**(i*t)\n",
    "        ci=a-p\n",
    "        lst.append(ci)\n",
    "    pt.plot(x,lst)\n",
    "    return ci\n",
    "\n",
    "p=int(input(\"Enter the principle\"))\n",
    "r=int(input(\"Enter the rate of interest\"))\n",
    "t=int(input(\"Enter the time\"))\n",
    "n=int(input(\"Enter the compound interset interval\"))\n",
    "\n",
    "print(\"compound interest is\",compoundint(p,r,t))"
   ]
  },
  {
   "cell_type": "code",
   "execution_count": 27,
   "id": "321ff17d",
   "metadata": {},
   "outputs": [
    {
     "name": "stdout",
     "output_type": "stream",
     "text": [
      "ENter first string;abc\n",
      "ENter second string:cba\n",
      "anagram is True\n"
     ]
    }
   ],
   "source": [
    "#Anagram using dictonary\n",
    "def anagram(s1, s2,):\n",
    "    n = len(s1)\n",
    "    m = len(s2)\n",
    "    if n != m:\n",
    "        return False\n",
    "    dic1 = {}\n",
    "    dic2 = {}\n",
    "    for x in range(n):\n",
    "        if dic1.get(s1[x]):\n",
    "            dic1[s1[x]] += 1\n",
    "        else:\n",
    "            dic1[s1[x]] = 1\n",
    "    for y in range(m):\n",
    "        if dic2.get(s2[y]):\n",
    "            dic2[s2[y]] += 1\n",
    "        else:\n",
    "            dic2[s2[y]] = 1\n",
    "    flag = True\n",
    "    for x in dic1.keys():\n",
    "        if dic2.get(x):\n",
    "            if dic1[x] != dic2[x]:\n",
    "                flag = False\n",
    "                break\n",
    "        else:\n",
    "            flag = False\n",
    "            break\n",
    "    return flag\n",
    "\n",
    "s1 = input('ENter first string;')\n",
    "s2 = input('ENter second string:')\n",
    "print(\"anagram is\",anagram(s1,s2))"
   ]
  },
  {
   "cell_type": "code",
   "execution_count": null,
   "id": "ab04032e",
   "metadata": {},
   "outputs": [],
   "source": []
  }
 ],
 "metadata": {
  "kernelspec": {
   "display_name": "Python 3 (ipykernel)",
   "language": "python",
   "name": "python3"
  },
  "language_info": {
   "codemirror_mode": {
    "name": "ipython",
    "version": 3
   },
   "file_extension": ".py",
   "mimetype": "text/x-python",
   "name": "python",
   "nbconvert_exporter": "python",
   "pygments_lexer": "ipython3",
   "version": "3.10.4"
  }
 },
 "nbformat": 4,
 "nbformat_minor": 5
}
